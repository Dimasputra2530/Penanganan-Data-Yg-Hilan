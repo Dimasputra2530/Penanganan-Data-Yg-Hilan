{
  "nbformat": 4,
  "nbformat_minor": 0,
  "metadata": {
    "colab": {
      "provenance": [],
      "authorship_tag": "ABX9TyP9pBI5gpv/CY4ZfVp+rlIn",
      "include_colab_link": true
    },
    "kernelspec": {
      "name": "python3",
      "display_name": "Python 3"
    },
    "language_info": {
      "name": "python"
    }
  },
  "cells": [
    {
      "cell_type": "markdown",
      "metadata": {
        "id": "view-in-github",
        "colab_type": "text"
      },
      "source": [
        "<a href=\"https://colab.research.google.com/github/Dimasputra2530/Penanganan-Data-Yg-Hilan/blob/main/Untitled0.ipynb\" target=\"_parent\"><img src=\"https://colab.research.google.com/assets/colab-badge.svg\" alt=\"Open In Colab\"/></a>"
      ]
    },
    {
      "cell_type": "code",
      "execution_count": null,
      "metadata": {
        "id": "LvlXc-sifnSG"
      },
      "outputs": [],
      "source": [
        "# Mengimpor pustaka yang diperlukan\n",
        "import pandas as pd\n",
        "import numpy as np\n",
        "from sklearn.impute import SimpleImputer\n",
        "\n",
        "# Memuat kumpulan data\n",
        "df = pd.read_csv('pima-indians-diabetes.csv')\n",
        "\n",
        "# Mengidentifikasi data yang hilang (dengan asumsi bahwa data yang hilang direpresentasikan sebagai NaN)\n",
        "missing_data = df.isnull().sum()\n",
        "\n",
        "# Mencetak jumlah entri yang hilang di setiap kolom\n",
        "print(\"Data yang hilang: \\n\", missing_data)\n",
        "\n",
        "# Mengonfigurasi instans kelas SimpleImputer\n",
        "imputer = SimpleImputer(missing_values=np.nan, strategy='mean')\n",
        "\n",
        "# Menyesuaikan imputer pada DataFrame\n",
        "imputer.fit(df)\n",
        "\n",
        "# Menerapkan transformasi ke DataFrame\n",
        "df_imputed = imputer.transform(df)\n",
        "\n",
        "# Mencetak matriks fitur yang diperbarui\n",
        "print(\"matriks yang diperbarui fitur\",df_imputed)"
      ]
    }
  ]
}